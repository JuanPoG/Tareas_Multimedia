{
  "cells": [
    {
      "cell_type": "markdown",
      "metadata": {
        "id": "view-in-github",
        "colab_type": "text"
      },
      "source": [
        "<a href=\"https://colab.research.google.com/github/JuanPoG/Tareas_Multimedia/blob/main/Actividad_2/Actividad_2_ApellidoNombre_ID.ipynb\" target=\"_parent\"><img src=\"https://colab.research.google.com/assets/colab-badge.svg\" alt=\"Open In Colab\"/></a>"
      ]
    },
    {
      "cell_type": "markdown",
      "id": "0a22500b-75f6-4e9e-bff8-e2166e04bd6a",
      "metadata": {
        "id": "0a22500b-75f6-4e9e-bff8-e2166e04bd6a"
      },
      "source": [
        "<h1><center>\n",
        "\n",
        "</center></h1>\n",
        "<font size=\"6\"><center>\n",
        "EIE 401\n",
        "PROCESAMIENTO DIGITAL MULTIMEDIA\n",
        "</center></font>"
      ]
    },
    {
      "cell_type": "markdown",
      "id": "4bb821ab-49e9-40ef-8ecd-d491bba9452c",
      "metadata": {
        "id": "4bb821ab-49e9-40ef-8ecd-d491bba9452c"
      },
      "source": [
        "\n",
        "<center><h2>Actividad 2</h2></center>\n",
        "<center><h3>Fundamentos: Análisis espectral</h3></center>\n",
        "<center><h3>Profesor: Jorge Cardenas</h3></center>\n",
        "\n",
        "<center><h3>Por: Juan Pablo Poblete</h3></center>\n",
        "<center><h5>Pontificia Universidad Catolica de Valparaiso</h5></center>\n"
      ]
    },
    {
      "cell_type": "markdown",
      "id": "caba8341",
      "metadata": {
        "id": "caba8341"
      },
      "source": [
        "## 1. Carga archivos y carga datos en python\n",
        "<p align=\"justify\">\n",
        "Una de las tareas más importantes es la de cargar archivos que incluyan datos para el procesamiento.\n",
        "\n",
        "<p align=\"justify\">\n",
        "Debes cargar los dos archivos en formato txt y CSV, adquirir los datos y presentarlos en graficos usando la librería Matplotlib\n",
        "    \n",
        "    "
      ]
    },
    {
      "cell_type": "code",
      "execution_count": null,
      "id": "bd0d903a",
      "metadata": {
        "id": "bd0d903a",
        "colab": {
          "base_uri": "https://localhost:8080/"
        },
        "outputId": "2bf839c2-f191-4c9e-9480-3c0f87e89fc2"
      },
      "outputs": [
        {
          "output_type": "stream",
          "name": "stdout",
          "text": [
            "Cloning into 'EIE_401_MULTIMEDIA'...\n",
            "remote: Enumerating objects: 276, done.\u001b[K\n",
            "remote: Counting objects: 100% (57/57), done.\u001b[K\n",
            "remote: Compressing objects: 100% (46/46), done.\u001b[K\n",
            "remote: Total 276 (delta 26), reused 40 (delta 11), pack-reused 219\u001b[K\n",
            "Receiving objects: 100% (276/276), 9.18 MiB | 13.98 MiB/s, done.\n",
            "Resolving deltas: 100% (120/120), done.\n"
          ]
        }
      ],
      "source": [
        "!git clone https://github.com/Jorgecardenas1/EIE_401_MULTIMEDIA.git"
      ]
    },
    {
      "cell_type": "code",
      "source": [
        "import pandas as pd"
      ],
      "metadata": {
        "id": "4SunuNQ9D4pT"
      },
      "id": "4SunuNQ9D4pT",
      "execution_count": 5,
      "outputs": []
    },
    {
      "cell_type": "code",
      "source": [
        "data = pd.read_csv(\"/content/EIE_401_MULTIMEDIA/Actividades/Actividad 2/AbsorbanceTE_0-0.csv\")\n",
        "print(data)"
      ],
      "metadata": {
        "colab": {
          "base_uri": "https://localhost:8080/"
        },
        "id": "1qDdlHfBESto",
        "outputId": "b668982e-4cd7-4611-f8e6-a62a92550359"
      },
      "id": "1qDdlHfBESto",
      "execution_count": 9,
      "outputs": [
        {
          "output_type": "stream",
          "name": "stdout",
          "text": [
            "     Freq [GHz]  AbsorbanceTE []\n",
            "0          30.0         0.008415\n",
            "1          30.1         0.009260\n",
            "2          30.2         0.010222\n",
            "3          30.3         0.011319\n",
            "4          30.4         0.012576\n",
            "..          ...              ...\n",
            "596        89.6         0.054279\n",
            "597        89.7         0.003677\n",
            "598        89.8         0.002508\n",
            "599        89.9         0.002696\n",
            "600        90.0         0.003055\n",
            "\n",
            "[601 rows x 2 columns]\n"
          ]
        }
      ]
    },
    {
      "cell_type": "code",
      "source": [
        "import gzip\n",
        "\n",
        "ruta_archivo_entrada = '/content/EIE_401_MULTIMEDIA/Actividades/Actividad 2/H-H1_GWOSC_16KHZ_R1-1268431079-32.txt.gz'\n",
        "ruta_archivo_salida = '/content/EIE_401_MULTIMEDIA/Actividades/Actividad 2/H-H1_GWOSC_16KHZ_R1-1268431079-32.txt'\n",
        "\n",
        "with gzip.open(ruta_archivo_entrada, 'rb') as f_in:\n",
        "    with open(ruta_archivo_salida, 'wb') as f_out:\n",
        "        f_out.write(f_in.read())"
      ],
      "metadata": {
        "id": "9qLrzT1SGdZm"
      },
      "id": "9qLrzT1SGdZm",
      "execution_count": 10,
      "outputs": []
    },
    {
      "cell_type": "code",
      "source": [
        "archivo_txt = open('/content/EIE_401_MULTIMEDIA/Actividades/Actividad 2/H-H1_GWOSC_16KHZ_R1-1268431079-32.txt', 'r')\n",
        "print(archivo_txt.read(200))"
      ],
      "metadata": {
        "colab": {
          "base_uri": "https://localhost:8080/"
        },
        "id": "8MSLCWDgMR4-",
        "outputId": "e1440819-44e2-4ef1-a445-d11c29a4c4ae"
      },
      "id": "8MSLCWDgMR4-",
      "execution_count": 22,
      "outputs": [
        {
          "output_type": "stream",
          "name": "stdout",
          "text": [
            "# Gravitational wave strain for GW200316_215756-v1 for H1 (see http://losc.ligo.org)\n",
            "# This file has 16384 samples per second\n",
            "# starting GPS 1268431079 duration 32\n",
            "6.9866647593005026e-20\n",
            "6.24534685389\n"
          ]
        }
      ]
    },
    {
      "cell_type": "markdown",
      "id": "09408813",
      "metadata": {
        "id": "09408813"
      },
      "source": [
        "## 2. Señal\n",
        "<p align=\"justify\">\n",
        "Crea una señal continua (la suma de dos senoidales/cosenoidales, exponenciales) que utilizaras para las demostraciones siguientes. Presenta la función que usaste en una gráfica de tal forma que la ecuación esté incluida en dicha gráfica.\n",
        "\n",
        "Incluye la ecuación en una celda de tu notebook usando LATEX.\n"
      ]
    },
    {
      "cell_type": "code",
      "execution_count": null,
      "id": "4b093655",
      "metadata": {
        "id": "4b093655"
      },
      "outputs": [],
      "source": []
    },
    {
      "cell_type": "markdown",
      "id": "b9e396eb-7409-47d6-a42a-1af7f8ec049f",
      "metadata": {
        "tags": [],
        "id": "b9e396eb-7409-47d6-a42a-1af7f8ec049f"
      },
      "source": [
        "## 3. Sampleo\n",
        "<p align=\"justify\">\n",
        "En este punto debes comprobar como se da la operación de sampleo y que sucede ante cambios en el intervalo de sampleo.    \n"
      ]
    },
    {
      "cell_type": "markdown",
      "id": "b00e9d64",
      "metadata": {
        "id": "b00e9d64"
      },
      "source": [
        "### 3.1 Crea una señal impulso (delta) y desplazala\n",
        "Para esto puedes usar alguna librería de python"
      ]
    },
    {
      "cell_type": "code",
      "execution_count": null,
      "id": "1b0084c9",
      "metadata": {
        "id": "1b0084c9"
      },
      "outputs": [],
      "source": []
    },
    {
      "cell_type": "markdown",
      "id": "5dbf2458-b85a-4524-ab91-1462fef0cab2",
      "metadata": {
        "id": "5dbf2458-b85a-4524-ab91-1462fef0cab2"
      },
      "source": [
        "### 3.2 Genere una señal Senoidal y realice la operación de sampleo\n",
        "Puedes utilizar el método \"stem\" de matplotlib para plotear el resultado."
      ]
    },
    {
      "cell_type": "code",
      "execution_count": null,
      "id": "28f30a1c",
      "metadata": {
        "id": "28f30a1c"
      },
      "outputs": [],
      "source": []
    },
    {
      "cell_type": "markdown",
      "id": "0f0dfd79",
      "metadata": {
        "id": "0f0dfd79"
      },
      "source": [
        "### 3.3 Genere una señal Triangular y realice la operación de sampleo"
      ]
    },
    {
      "cell_type": "code",
      "execution_count": null,
      "id": "087476d2",
      "metadata": {
        "id": "087476d2"
      },
      "outputs": [],
      "source": []
    },
    {
      "cell_type": "markdown",
      "id": "6e8fc991",
      "metadata": {
        "id": "6e8fc991"
      },
      "source": [
        "### 3.4 Realice la operación de sampleo sobre la señal que generaste en el punto 2"
      ]
    },
    {
      "cell_type": "code",
      "execution_count": null,
      "id": "24e22008-2862-43e8-9219-d5920ee37fff",
      "metadata": {
        "id": "24e22008-2862-43e8-9219-d5920ee37fff"
      },
      "outputs": [],
      "source": []
    },
    {
      "cell_type": "markdown",
      "id": "1ea31cae-047d-4b09-91b2-ab627b90ede7",
      "metadata": {
        "id": "1ea31cae-047d-4b09-91b2-ab627b90ede7"
      },
      "source": [
        "### 3.5 Compruebe el teorema de Nyquist\n",
        "Para comprobarlo, debes evaluar algunos casos:\n",
        "1. la frecuencia de sampleo _f_ es mayor que la frecuencia máxima de tu señal, Fmax.\n",
        "2. la frecuencia de sampleo _f_ es mayor que 2*Fmax.\n",
        "3. la frecuencia de sampleo _f_ es mayor que 5*Fmax.\n",
        "\n",
        "<p align=\"justify\">\n",
        "Debe graficar:\n",
        "\n",
        "1. la señal original.\n",
        "2. la señal sampleada.\n",
        "3. la señal reconstruida a partir del sampleo."
      ]
    },
    {
      "cell_type": "code",
      "execution_count": null,
      "id": "c84bb6f6",
      "metadata": {
        "id": "c84bb6f6"
      },
      "outputs": [],
      "source": []
    },
    {
      "cell_type": "code",
      "execution_count": null,
      "id": "c2ac5558",
      "metadata": {
        "id": "c2ac5558"
      },
      "outputs": [],
      "source": []
    },
    {
      "cell_type": "code",
      "execution_count": null,
      "id": "77035a49",
      "metadata": {
        "id": "77035a49"
      },
      "outputs": [],
      "source": []
    },
    {
      "cell_type": "markdown",
      "id": "9142f383-7a62-46e2-8e5d-b4fa2c41b121",
      "metadata": {
        "id": "9142f383-7a62-46e2-8e5d-b4fa2c41b121"
      },
      "source": [
        "### 3.6 Explica tus hallazgos"
      ]
    },
    {
      "cell_type": "code",
      "execution_count": null,
      "id": "020107fb-a697-42ce-b344-ec7abb8058ce",
      "metadata": {
        "id": "020107fb-a697-42ce-b344-ec7abb8058ce"
      },
      "outputs": [],
      "source": []
    },
    {
      "cell_type": "markdown",
      "id": "3add46e0-f5e2-4a20-8830-3e795f78d2a0",
      "metadata": {
        "id": "3add46e0-f5e2-4a20-8830-3e795f78d2a0"
      },
      "source": [
        "## 4. Referencias\n",
        "<p align=\"justify\">\n",
        "    \n",
        "\n",
        "[Sobre Teorema del sampleo]https://ipython-books.github.io/chapter-10-signal-processing/\n",
        "\n",
        "[Sobre Matplotlib] https://matplotlib.org/stable/gallery/mplot3d/2dcollections3d.html#sphx-glr-gallery-mplot3d-2dcollections3d-py"
      ]
    },
    {
      "cell_type": "markdown",
      "id": "8e76c2e7",
      "metadata": {
        "id": "8e76c2e7"
      },
      "source": []
    }
  ],
  "metadata": {
    "kernelspec": {
      "display_name": "Python 3 (ipykernel)",
      "language": "python",
      "name": "python3"
    },
    "language_info": {
      "codemirror_mode": {
        "name": "ipython",
        "version": 3
      },
      "file_extension": ".py",
      "mimetype": "text/x-python",
      "name": "python",
      "nbconvert_exporter": "python",
      "pygments_lexer": "ipython3",
      "version": "3.10.12"
    },
    "colab": {
      "provenance": [],
      "include_colab_link": true
    }
  },
  "nbformat": 4,
  "nbformat_minor": 5
}