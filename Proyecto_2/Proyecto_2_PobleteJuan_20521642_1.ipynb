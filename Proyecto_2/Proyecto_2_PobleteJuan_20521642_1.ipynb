{
  "cells": [
    {
      "cell_type": "markdown",
      "metadata": {
        "id": "view-in-github",
        "colab_type": "text"
      },
      "source": [
        "<a href=\"https://colab.research.google.com/github/JuanPoG/Tareas_Multimedia/blob/main/Proyecto_2/Proyecto_2_PobleteJuan_20521642_1.ipynb\" target=\"_parent\"><img src=\"https://colab.research.google.com/assets/colab-badge.svg\" alt=\"Open In Colab\"/></a>"
      ]
    },
    {
      "cell_type": "markdown",
      "id": "0a22500b-75f6-4e9e-bff8-e2166e04bd6a",
      "metadata": {
        "id": "0a22500b-75f6-4e9e-bff8-e2166e04bd6a"
      },
      "source": [
        "<h1><center>\n",
        "\n",
        "</center></h1>\n",
        "<font size=\"6\"><center>\n",
        "EIE 401\n",
        "PROCESAMIENTO DIGITAL MULTIMEDIA\n",
        "</center></font>"
      ]
    },
    {
      "cell_type": "markdown",
      "id": "4bb821ab-49e9-40ef-8ecd-d491bba9452c",
      "metadata": {
        "id": "4bb821ab-49e9-40ef-8ecd-d491bba9452c"
      },
      "source": [
        "\n",
        "<center><h2>Proyecto 2</h2></center>\n",
        "<center><h3>Procesamiento digital de señales</h3></center>\n",
        "<center><h3>Profesor: Jorge Cardenas</h3></center>\n",
        "\n",
        "<center><h3>Por: Juan Pablo Poblete Galvez</h3></center>\n",
        "<center><h5>Pontificia Universidad Catolica de Valparaiso</h5></center>\n"
      ]
    },
    {
      "cell_type": "code",
      "execution_count": null,
      "id": "215c84a4",
      "metadata": {
        "id": "215c84a4",
        "outputId": "8c949573-1183-46dd-ac92-41e0832a7508"
      },
      "outputs": [
        {
          "data": {
            "text/html": [
              "\n",
              "        <iframe\n",
              "            width=\"700\"\n",
              "            height=\"400\"\n",
              "            src=\"Proyecto_1_EIE401.pdf\"\n",
              "            frameborder=\"0\"\n",
              "            allowfullscreen\n",
              "            \n",
              "        ></iframe>\n",
              "        "
            ],
            "text/plain": [
              "<IPython.lib.display.IFrame at 0x7fe8667afdf0>"
            ]
          },
          "execution_count": 2,
          "metadata": {},
          "output_type": "execute_result"
        }
      ],
      "source": [
        "from IPython.display import IFrame, display\n",
        "filepath = \"Proyecto_2_EIE401.pdf\"\n",
        "IFrame(filepath, width=700, height=400)"
      ]
    },
    {
      "cell_type": "markdown",
      "id": "c63b11e7",
      "metadata": {
        "id": "c63b11e7"
      },
      "source": [
        "En la dirección https://huggingface.co/datasets/astroboy1/metasurfaces_V1_30-90GHZ encontrarás el archivo batch_may2024.zip\n",
        " que contiene las imagenes que usarás para el procesamiento."
      ]
    },
    {
      "cell_type": "markdown",
      "id": "f0889ee3-d16b-49e3-be4b-a4c94f28701d",
      "metadata": {
        "id": "f0889ee3-d16b-49e3-be4b-a4c94f28701d"
      },
      "source": [
        "## 1. Carga de Datos\n"
      ]
    },
    {
      "cell_type": "markdown",
      "id": "567bb56f",
      "metadata": {
        "id": "567bb56f"
      },
      "source": [
        "- En los archivos, encontrarás un folder con imagenes de 3 categorías: cross, box, circle.\n",
        "Cada imagen tiene una medida de 512x512 pixeles y 3 canales. Se han acentuado los azules y rojos para facilitar el proceso de obtención de características.\n",
        "\n",
        "- Puedes extraer la clase a la que pertenece la imagen, desde el nombre del archivo. Ahí mismo encuentras números de serie que te permiten identificar de forma específica una imagen.\n",
        "\n",
        "- Se te entrega 3 imagenes de referencia de 16x16 pixeles, las que debes usar como plantilla para el proceso de clasificación de la imagen.\n"
      ]
    },
    {
      "cell_type": "code",
      "execution_count": 1,
      "id": "d0ab6ee5-d7a3-4cf7-9aee-1d1a76b5525f",
      "metadata": {
        "colab": {
          "base_uri": "https://localhost:8080/"
        },
        "id": "d0ab6ee5-d7a3-4cf7-9aee-1d1a76b5525f",
        "outputId": "26a4b3cd-6369-4fe2-8697-971779691325"
      },
      "outputs": [
        {
          "output_type": "stream",
          "name": "stdout",
          "text": [
            "Cloning into 'EIE_401_MULTIMEDIA'...\n",
            "remote: Enumerating objects: 347, done.\u001b[K\n",
            "remote: Counting objects: 100% (6/6), done.\u001b[K\n",
            "remote: Compressing objects: 100% (6/6), done.\u001b[K\n",
            "remote: Total 347 (delta 1), reused 1 (delta 0), pack-reused 341\u001b[K\n",
            "Receiving objects: 100% (347/347), 44.47 MiB | 15.20 MiB/s, done.\n",
            "Resolving deltas: 100% (159/159), done.\n"
          ]
        }
      ],
      "source": [
        "!git clone https://github.com/Jorgecardenas1/EIE_401_MULTIMEDIA.git"
      ]
    },
    {
      "cell_type": "code",
      "execution_count": 2,
      "id": "RBFfnAAsj0zm",
      "metadata": {
        "id": "RBFfnAAsj0zm"
      },
      "outputs": [],
      "source": [
        "import zipfile\n",
        "\n",
        "ruta_zip = '/content/EIE_401_MULTIMEDIA/Proyectos/Proyecto 2/imagenes.zip'\n",
        "\n",
        "with zipfile.ZipFile(ruta_zip,'r') as f:\n",
        "  f.extractall('imagenes')\n",
        "\n",
        "ruta_imagenes='/content/imagenes/processed512'"
      ]
    },
    {
      "cell_type": "markdown",
      "id": "28db8b8d",
      "metadata": {
        "id": "28db8b8d"
      },
      "source": [
        "## 2. Transformar imagen\n",
        "Recuerda que la tarea es lograr el procesamiento más rápido posible.\n",
        "Para lograr esto, realiza las operaciones que consideres necesarias sobre la imagen original para el posterior trabajo de Matching con las plantillas dadas."
      ]
    },
    {
      "cell_type": "code",
      "execution_count": 3,
      "id": "3cf800d9",
      "metadata": {
        "id": "3cf800d9"
      },
      "outputs": [],
      "source": [
        "import os\n",
        "import cv2\n",
        "import numpy as np\n",
        "import pandas as pd\n",
        "\n",
        "#direcciones\n",
        "input_dir = '/content/imagenes/processed512'\n",
        "output_dir_transformed = '/content/imagenes'\n",
        "output_dir_convolved = '/content/imagenes/salida_convolved'\n",
        "template_dir = '/content/EIE_401_MULTIMEDIA/Proyectos/Proyecto 2/'\n",
        "result_file = 'resultados.csv'\n",
        "\n",
        "#crea las rutas\n",
        "if not os.path.exists(output_dir_transformed):\n",
        "    os.makedirs(output_dir_transformed)\n",
        "\n",
        "if not os.path.exists(output_dir_convolved):\n",
        "    os.makedirs(output_dir_convolved)"
      ]
    },
    {
      "cell_type": "code",
      "source": [
        "def transform_image(image_path, output_path):\n",
        "    \"\"\"\n",
        "    escala las imagenes a un tamaño menor para\n",
        "    hacer mas eficiente el proceso de matching\n",
        "    \"\"\"\n",
        "    img = cv2.imread(image_path, cv2.IMREAD_GRAYSCALE)\n",
        "    if img is None:\n",
        "        return\n",
        "\n",
        "    #escala imagenes\n",
        "    img_resized = cv2.resize(img, (256, 256))\n",
        "    cv2.imwrite(output_path, img_resized)\n",
        "\n",
        "#procesa las imagenes\n",
        "for filename in os.listdir(input_dir):\n",
        "    \"\"\"\n",
        "    para aplicar a todas las imagenes se utiliza un ciclo for\n",
        "    para que tome los archivos que sean .jpg o .png\n",
        "    \"\"\"\n",
        "    if filename.endswith('.jpg') or filename.endswith('.png'):\n",
        "        img_path = os.path.join(input_dir, filename)\n",
        "        output_path = os.path.join(output_dir_transformed, filename)\n",
        "        transform_image(img_path, output_path)"
      ],
      "metadata": {
        "id": "TO6S-kUyLr9f"
      },
      "id": "TO6S-kUyLr9f",
      "execution_count": 7,
      "outputs": []
    },
    {
      "cell_type": "markdown",
      "id": "c64b67c8",
      "metadata": {
        "id": "c64b67c8"
      },
      "source": [
        "## 3. Operaciones de convolución\n",
        "Para extraer las caracteristicas, debes realizar tantas operaciones de convolución como creas necesarias.\n",
        "El resultado de tus convoluciones vas a usarlo para el proceso de matching.\n"
      ]
    },
    {
      "cell_type": "code",
      "execution_count": 8,
      "id": "16275ac1",
      "metadata": {
        "id": "16275ac1"
      },
      "outputs": [],
      "source": [
        "def apply_convolution(image):\n",
        "    \"\"\"\n",
        "    aplica kernels para extraer caracteristicas\n",
        "    de las imagenes para facilitar el proceso de matching\n",
        "    \"\"\"\n",
        "    kernel_sharpen = np.array([[-1,-1,-1], [-1,9,-1], [-1,-1,-1]])\n",
        "    kernel_edge = np.array([[-1,-1,-1], [0,0,0], [1,1,1]])\n",
        "\n",
        "    sharpened = cv2.filter2D(image, -1, kernel_sharpen)\n",
        "    edged = cv2.filter2D(image, -1, kernel_edge)\n",
        "\n",
        "    combined = cv2.addWeighted(sharpened, 0.5, edged, 0.5, 0)\n",
        "\n",
        "    return combined\n",
        "\n",
        "def preprocess_image(image_path, output_path):\n",
        "    img = cv2.imread(image_path, cv2.IMREAD_GRAYSCALE)\n",
        "    if img is None:\n",
        "        return\n",
        "\n",
        "    convolved_img = apply_convolution(img)\n",
        "    edges = cv2.Canny(convolved_img, 50, 150)\n",
        "\n",
        "    cv2.imwrite(output_path, edges)"
      ]
    },
    {
      "cell_type": "code",
      "source": [
        "#aplica las convoluciones\n",
        "for filename in os.listdir(output_dir_transformed):\n",
        "    \"\"\"\n",
        "    para aplicar a todas las imagenes se utiliza un ciclo for\n",
        "    para que tome los archivos que sean .jpg o .png\n",
        "    \"\"\"\n",
        "    if filename.endswith('.jpg') or filename.endswith('.png'):\n",
        "        img_path = os.path.join(output_dir_transformed, filename)\n",
        "        output_path = os.path.join(output_dir_convolved, filename)\n",
        "        preprocess_image(img_path, output_path)"
      ],
      "metadata": {
        "id": "AAO2GIQ-bJLO"
      },
      "id": "AAO2GIQ-bJLO",
      "execution_count": 9,
      "outputs": []
    },
    {
      "cell_type": "markdown",
      "id": "55e692dd",
      "metadata": {
        "id": "55e692dd"
      },
      "source": [
        "## 4. Matching\n",
        "El proceso de matching debe considerar que vas a usar las imagenes de referencia para calcular la correlación\n",
        "![image.png](attachment:6850d57c-7e6f-4acf-ac3b-d9a8feb071cb.png)"
      ]
    },
    {
      "cell_type": "code",
      "execution_count": 22,
      "id": "8e7dfee1",
      "metadata": {
        "id": "8e7dfee1",
        "colab": {
          "base_uri": "https://localhost:8080/"
        },
        "outputId": "c9f43e06-6b38-4915-d8a4-c070956485c3"
      },
      "outputs": [
        {
          "output_type": "stream",
          "name": "stdout",
          "text": [
            "79.85968539100008\n"
          ]
        }
      ],
      "source": [
        "from timeit import default_timer as timer\n",
        "\n",
        "# Lee las plantillas y aplica convolución\n",
        "templates = {\n",
        "    'cross': cv2.imread(os.path.join(template_dir, 'cross_templae.png'), cv2.IMREAD_GRAYSCALE),\n",
        "    'box': cv2.imread(os.path.join(template_dir, 'box_templae.png'), cv2.IMREAD_GRAYSCALE),\n",
        "    'circle': cv2.imread(os.path.join(template_dir, 'circ_templae.png'), cv2.IMREAD_GRAYSCALE)\n",
        "}\n",
        "\n",
        "processed_templates = {category: apply_convolution(template) for category, template in templates.items()}\n",
        "\n",
        "def match_template(image, template):\n",
        "    result = cv2.matchTemplate(image, template, cv2.TM_SQDIFF_NORMED)\n",
        "    min_val, max_val, min_loc, max_loc = cv2.minMaxLoc(result)\n",
        "    return max_val\n",
        "\n",
        "def perform_matching(image_path):\n",
        "    img = cv2.imread(image_path, cv2.IMREAD_GRAYSCALE)\n",
        "    if img is None:\n",
        "        return None\n",
        "\n",
        "    preprocessed_img = apply_convolution(img)\n",
        "\n",
        "    #realiza matching con cada plantilla\n",
        "    match_scores = {category: match_template(preprocessed_img, template) for category, template in processed_templates.items()}\n",
        "    best_match = max(match_scores, key=match_scores.get)\n",
        "    best_score = match_scores[best_match]\n",
        "\n",
        "    return best_match, best_score\n",
        "\n",
        "start = timer()\n",
        "\n",
        "#procesa cada imagen\n",
        "results = []\n",
        "for filename in os.listdir(output_dir_convolved):\n",
        "    \"\"\"\n",
        "    para aplicar a todas las imagenes se utiliza un ciclo for\n",
        "    para que tome los archivos que sean .jpg o .png\n",
        "    \"\"\"\n",
        "    if filename.endswith('.jpg') or filename.endswith('.png'):\n",
        "        img_path = os.path.join(output_dir_convolved, filename)\n",
        "        best_match, best_score = perform_matching(img_path)\n",
        "        results.append((filename, best_match, best_score))\n",
        "\n",
        "end = timer()\n",
        "print(end - start)\n"
      ]
    },
    {
      "cell_type": "markdown",
      "id": "550b44f5",
      "metadata": {
        "id": "550b44f5"
      },
      "source": [
        "# 5. Clasificación\n",
        "De cada operación realizada obtendrás valores para inferir si la imagen bajo estudio corresponde con alguna de las 3 categorías: cross, box, circle.\n",
        "\n",
        "Debes almacenar cada resultado obtenido para cada imagen, hallar el error de clasificación y generar un informe del error general al clasificar todas las imagenes.\n",
        "\n"
      ]
    },
    {
      "cell_type": "markdown",
      "id": "50606ff2-b6ab-4b75-9292-ca6dfd1f2cf3",
      "metadata": {
        "id": "50606ff2-b6ab-4b75-9292-ca6dfd1f2cf3"
      },
      "source": [
        "Presenta aquí el resultado de clasificación numérico, así como  dos ejemplos verdaderos y dos ejemplos falsos de imagenes clasificadas.\n"
      ]
    },
    {
      "cell_type": "code",
      "execution_count": 23,
      "id": "13920e66-4b02-4fad-b711-78fe6249c5f8",
      "metadata": {
        "id": "13920e66-4b02-4fad-b711-78fe6249c5f8",
        "colab": {
          "base_uri": "https://localhost:8080/"
        },
        "outputId": "7783515c-c9dd-4cd2-969f-c4481b597fbc"
      },
      "outputs": [
        {
          "output_type": "stream",
          "name": "stdout",
          "text": [
            "\n",
            "Clasificación:\n",
            "-------------------------\n",
            "Total de imágenes: 14328\n",
            "Clasificaciones correctas: 5923\n",
            "Clasificaciones incorrectas: 8405\n",
            "Precisión: 41.34%\n",
            "Error de Clasificación: 58.66%\n",
            "\n"
          ]
        }
      ],
      "source": [
        "def get_real_category(filename):\n",
        "    if 'cross' in filename.lower():\n",
        "        return 'cross'\n",
        "    elif 'box' in filename.lower():\n",
        "        return 'box'\n",
        "    elif 'circle' in filename.lower():\n",
        "        return 'circle'\n",
        "    else:\n",
        "        return None\n",
        "\n",
        "#añade la categoría real a los resultados\n",
        "resultados = []\n",
        "for filename, predicted_category, best_score in results:\n",
        "    real_category = get_real_category(filename)\n",
        "    resultados.append({\n",
        "        'filename': filename,\n",
        "        'predicted_category': predicted_category,\n",
        "        'best_score': best_score,\n",
        "        'real_category': real_category\n",
        "    })\n",
        "\n",
        "#guarda los resultados en archivo CSV\n",
        "df_results = pd.DataFrame(resultados)\n",
        "df_results.to_csv(result_file, index=False)\n",
        "\n",
        "#evaluación error de clasificación\n",
        "df_results['correct'] = df_results['predicted_category'] == df_results['real_category']\n",
        "\n",
        "#calcula la precision\n",
        "accuracy = df_results['correct'].mean()\n",
        "classification_error = 1 - accuracy\n",
        "\n",
        "#reporte\n",
        "report = f\"\"\"\n",
        "Clasificación:\n",
        "-------------------------\n",
        "Total de imágenes: {len(df_results)}\n",
        "Clasificaciones correctas: {df_results['correct'].sum()}\n",
        "Clasificaciones incorrectas: {len(df_results) - df_results['correct'].sum()}\n",
        "Precisión: {accuracy * 100:.2f}%\n",
        "Error de Clasificación: {classification_error * 100:.2f}%\n",
        "\"\"\"\n",
        "\n",
        "with open('informe.txt', 'w') as f:\n",
        "    f.write(report)\n",
        "\n",
        "print(report)"
      ]
    },
    {
      "cell_type": "markdown",
      "id": "3add46e0-f5e2-4a20-8830-3e795f78d2a0",
      "metadata": {
        "id": "3add46e0-f5e2-4a20-8830-3e795f78d2a0"
      },
      "source": [
        "# 6. Medición\n",
        "Recuerda que debes imprimir el tiempo que tarda tu algoritmo en procesar todas las imagenes en la base de datos. Usa el siguiente fragmento de código, ubicando el inicio y fin donde corresponda.\n",
        "\n",
        "\n",
        "\n"
      ]
    },
    {
      "cell_type": "code",
      "execution_count": null,
      "id": "bd8e1005-2576-4d78-93eb-3a3124f5394c",
      "metadata": {
        "id": "bd8e1005-2576-4d78-93eb-3a3124f5394c"
      },
      "outputs": [],
      "source": [
        "from timeit import default_timer as timer\n",
        "\n",
        "start = timer()\n",
        "\n",
        "print(23*2.3)\n",
        "\n",
        "end = timer()\n",
        "print(end - start)\n",
        "\n"
      ]
    }
  ],
  "metadata": {
    "colab": {
      "provenance": [],
      "include_colab_link": true
    },
    "kernelspec": {
      "display_name": "Python 3 (ipykernel)",
      "language": "python",
      "name": "python3"
    },
    "language_info": {
      "codemirror_mode": {
        "name": "ipython",
        "version": 3
      },
      "file_extension": ".py",
      "mimetype": "text/x-python",
      "name": "python",
      "nbconvert_exporter": "python",
      "pygments_lexer": "ipython3",
      "version": "3.10.12"
    }
  },
  "nbformat": 4,
  "nbformat_minor": 5
}